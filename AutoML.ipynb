{
  "cells": [
    {
      "cell_type": "markdown",
      "metadata": {
        "id": "view-in-github",
        "colab_type": "text"
      },
      "source": [
        "<a href=\"https://colab.research.google.com/github/labibaa/Forecasting-Inflation/blob/main/AutoML.ipynb\" target=\"_parent\"><img src=\"https://colab.research.google.com/assets/colab-badge.svg\" alt=\"Open In Colab\"/></a>"
      ]
    },
    {
      "cell_type": "code",
      "execution_count": null,
      "metadata": {
        "colab": {
          "base_uri": "https://localhost:8080/"
        },
        "id": "cyu0rg3JCoGw",
        "outputId": "aa4c62ac-67cb-4a07-880e-6fdba40cd3bd"
      },
      "outputs": [
        {
          "output_type": "stream",
          "name": "stdout",
          "text": [
            "Looking in indexes: https://pypi.org/simple, https://us-python.pkg.dev/colab-wheels/public/simple/\n",
            "Requirement already satisfied: h2o in /usr/local/lib/python3.10/dist-packages (3.40.0.4)\n",
            "Requirement already satisfied: requests in /usr/local/lib/python3.10/dist-packages (from h2o) (2.27.1)\n",
            "Requirement already satisfied: tabulate in /usr/local/lib/python3.10/dist-packages (from h2o) (0.8.10)\n",
            "Requirement already satisfied: future in /usr/local/lib/python3.10/dist-packages (from h2o) (0.18.3)\n",
            "Requirement already satisfied: urllib3<1.27,>=1.21.1 in /usr/local/lib/python3.10/dist-packages (from requests->h2o) (1.26.15)\n",
            "Requirement already satisfied: certifi>=2017.4.17 in /usr/local/lib/python3.10/dist-packages (from requests->h2o) (2022.12.7)\n",
            "Requirement already satisfied: charset-normalizer~=2.0.0 in /usr/local/lib/python3.10/dist-packages (from requests->h2o) (2.0.12)\n",
            "Requirement already satisfied: idna<4,>=2.5 in /usr/local/lib/python3.10/dist-packages (from requests->h2o) (3.4)\n"
          ]
        }
      ],
      "source": [
        "pip install h2o"
      ]
    },
    {
      "cell_type": "code",
      "execution_count": null,
      "metadata": {
        "id": "mhSNsvfE62BE"
      },
      "outputs": [],
      "source": [
        "import h2o\n",
        "from h2o.automl import H2OAutoML\n"
      ]
    },
    {
      "cell_type": "code",
      "execution_count": null,
      "metadata": {
        "colab": {
          "base_uri": "https://localhost:8080/",
          "height": 524
        },
        "id": "E1Yl-OO0CyA0",
        "outputId": "1431cbe4-6372-45bc-c629-ef42120d773e"
      },
      "outputs": [
        {
          "name": "stdout",
          "output_type": "stream",
          "text": [
            "Checking whether there is an H2O instance running at http://localhost:54321..... not found.\n",
            "Attempting to start a local H2O server...\n",
            "  Java Version: openjdk version \"11.0.19\" 2023-04-18; OpenJDK Runtime Environment (build 11.0.19+7-post-Ubuntu-0ubuntu120.04.1); OpenJDK 64-Bit Server VM (build 11.0.19+7-post-Ubuntu-0ubuntu120.04.1, mixed mode, sharing)\n",
            "  Starting server from /usr/local/lib/python3.10/dist-packages/h2o/backend/bin/h2o.jar\n",
            "  Ice root: /tmp/tmp8wvfetop\n",
            "  JVM stdout: /tmp/tmp8wvfetop/h2o_unknownUser_started_from_python.out\n",
            "  JVM stderr: /tmp/tmp8wvfetop/h2o_unknownUser_started_from_python.err\n",
            "  Server is running at http://127.0.0.1:54321\n",
            "Connecting to H2O server at http://127.0.0.1:54321 ... successful.\n"
          ]
        },
        {
          "data": {
            "text/html": [
              "\n",
              "<style>\n",
              "\n",
              "#h2o-table-1.h2o-container {\n",
              "  overflow-x: auto;\n",
              "}\n",
              "#h2o-table-1 .h2o-table {\n",
              "  /* width: 100%; */\n",
              "  margin-top: 1em;\n",
              "  margin-bottom: 1em;\n",
              "}\n",
              "#h2o-table-1 .h2o-table caption {\n",
              "  white-space: nowrap;\n",
              "  caption-side: top;\n",
              "  text-align: left;\n",
              "  /* margin-left: 1em; */\n",
              "  margin: 0;\n",
              "  font-size: larger;\n",
              "}\n",
              "#h2o-table-1 .h2o-table thead {\n",
              "  white-space: nowrap; \n",
              "  position: sticky;\n",
              "  top: 0;\n",
              "  box-shadow: 0 -1px inset;\n",
              "}\n",
              "#h2o-table-1 .h2o-table tbody {\n",
              "  overflow: auto;\n",
              "}\n",
              "#h2o-table-1 .h2o-table th,\n",
              "#h2o-table-1 .h2o-table td {\n",
              "  text-align: right;\n",
              "  /* border: 1px solid; */\n",
              "}\n",
              "#h2o-table-1 .h2o-table tr:nth-child(even) {\n",
              "  /* background: #F5F5F5 */\n",
              "}\n",
              "\n",
              "</style>      \n",
              "<div id=\"h2o-table-1\" class=\"h2o-container\">\n",
              "  <table class=\"h2o-table\">\n",
              "    <caption></caption>\n",
              "    <thead></thead>\n",
              "    <tbody><tr><td>H2O_cluster_uptime:</td>\n",
              "<td>03 secs</td></tr>\n",
              "<tr><td>H2O_cluster_timezone:</td>\n",
              "<td>Etc/UTC</td></tr>\n",
              "<tr><td>H2O_data_parsing_timezone:</td>\n",
              "<td>UTC</td></tr>\n",
              "<tr><td>H2O_cluster_version:</td>\n",
              "<td>3.40.0.4</td></tr>\n",
              "<tr><td>H2O_cluster_version_age:</td>\n",
              "<td>1 month and 15 days</td></tr>\n",
              "<tr><td>H2O_cluster_name:</td>\n",
              "<td>H2O_from_python_unknownUser_5fy1xn</td></tr>\n",
              "<tr><td>H2O_cluster_total_nodes:</td>\n",
              "<td>1</td></tr>\n",
              "<tr><td>H2O_cluster_free_memory:</td>\n",
              "<td>3.170 Gb</td></tr>\n",
              "<tr><td>H2O_cluster_total_cores:</td>\n",
              "<td>2</td></tr>\n",
              "<tr><td>H2O_cluster_allowed_cores:</td>\n",
              "<td>2</td></tr>\n",
              "<tr><td>H2O_cluster_status:</td>\n",
              "<td>locked, healthy</td></tr>\n",
              "<tr><td>H2O_connection_url:</td>\n",
              "<td>http://127.0.0.1:54321</td></tr>\n",
              "<tr><td>H2O_connection_proxy:</td>\n",
              "<td>{\"http\": null, \"https\": null, \"colab_language_server\": \"/usr/colab/bin/language_service\"}</td></tr>\n",
              "<tr><td>H2O_internal_security:</td>\n",
              "<td>False</td></tr>\n",
              "<tr><td>Python_version:</td>\n",
              "<td>3.10.12 final</td></tr></tbody>\n",
              "  </table>\n",
              "</div>\n"
            ],
            "text/plain": [
              "--------------------------  -----------------------------------------------------------------------------------------\n",
              "H2O_cluster_uptime:         03 secs\n",
              "H2O_cluster_timezone:       Etc/UTC\n",
              "H2O_data_parsing_timezone:  UTC\n",
              "H2O_cluster_version:        3.40.0.4\n",
              "H2O_cluster_version_age:    1 month and 15 days\n",
              "H2O_cluster_name:           H2O_from_python_unknownUser_5fy1xn\n",
              "H2O_cluster_total_nodes:    1\n",
              "H2O_cluster_free_memory:    3.170 Gb\n",
              "H2O_cluster_total_cores:    2\n",
              "H2O_cluster_allowed_cores:  2\n",
              "H2O_cluster_status:         locked, healthy\n",
              "H2O_connection_url:         http://127.0.0.1:54321\n",
              "H2O_connection_proxy:       {\"http\": null, \"https\": null, \"colab_language_server\": \"/usr/colab/bin/language_service\"}\n",
              "H2O_internal_security:      False\n",
              "Python_version:             3.10.12 final\n",
              "--------------------------  -----------------------------------------------------------------------------------------"
            ]
          },
          "metadata": {},
          "output_type": "display_data"
        }
      ],
      "source": [
        "h2o.init()\n"
      ]
    },
    {
      "cell_type": "code",
      "execution_count": null,
      "metadata": {
        "colab": {
          "base_uri": "https://localhost:8080/",
          "height": 73
        },
        "id": "4Bx8buJd7lL1",
        "outputId": "95d8131d-bb5e-4f5f-9b0a-a65af627193c"
      },
      "outputs": [
        {
          "data": {
            "text/html": [
              "\n",
              "     <input type=\"file\" id=\"files-101d1d17-6e07-41d1-ac4c-4aea26304eec\" name=\"files[]\" multiple disabled\n",
              "        style=\"border:none\" />\n",
              "     <output id=\"result-101d1d17-6e07-41d1-ac4c-4aea26304eec\">\n",
              "      Upload widget is only available when the cell has been executed in the\n",
              "      current browser session. Please rerun this cell to enable.\n",
              "      </output>\n",
              "      <script>// Copyright 2017 Google LLC\n",
              "//\n",
              "// Licensed under the Apache License, Version 2.0 (the \"License\");\n",
              "// you may not use this file except in compliance with the License.\n",
              "// You may obtain a copy of the License at\n",
              "//\n",
              "//      http://www.apache.org/licenses/LICENSE-2.0\n",
              "//\n",
              "// Unless required by applicable law or agreed to in writing, software\n",
              "// distributed under the License is distributed on an \"AS IS\" BASIS,\n",
              "// WITHOUT WARRANTIES OR CONDITIONS OF ANY KIND, either express or implied.\n",
              "// See the License for the specific language governing permissions and\n",
              "// limitations under the License.\n",
              "\n",
              "/**\n",
              " * @fileoverview Helpers for google.colab Python module.\n",
              " */\n",
              "(function(scope) {\n",
              "function span(text, styleAttributes = {}) {\n",
              "  const element = document.createElement('span');\n",
              "  element.textContent = text;\n",
              "  for (const key of Object.keys(styleAttributes)) {\n",
              "    element.style[key] = styleAttributes[key];\n",
              "  }\n",
              "  return element;\n",
              "}\n",
              "\n",
              "// Max number of bytes which will be uploaded at a time.\n",
              "const MAX_PAYLOAD_SIZE = 100 * 1024;\n",
              "\n",
              "function _uploadFiles(inputId, outputId) {\n",
              "  const steps = uploadFilesStep(inputId, outputId);\n",
              "  const outputElement = document.getElementById(outputId);\n",
              "  // Cache steps on the outputElement to make it available for the next call\n",
              "  // to uploadFilesContinue from Python.\n",
              "  outputElement.steps = steps;\n",
              "\n",
              "  return _uploadFilesContinue(outputId);\n",
              "}\n",
              "\n",
              "// This is roughly an async generator (not supported in the browser yet),\n",
              "// where there are multiple asynchronous steps and the Python side is going\n",
              "// to poll for completion of each step.\n",
              "// This uses a Promise to block the python side on completion of each step,\n",
              "// then passes the result of the previous step as the input to the next step.\n",
              "function _uploadFilesContinue(outputId) {\n",
              "  const outputElement = document.getElementById(outputId);\n",
              "  const steps = outputElement.steps;\n",
              "\n",
              "  const next = steps.next(outputElement.lastPromiseValue);\n",
              "  return Promise.resolve(next.value.promise).then((value) => {\n",
              "    // Cache the last promise value to make it available to the next\n",
              "    // step of the generator.\n",
              "    outputElement.lastPromiseValue = value;\n",
              "    return next.value.response;\n",
              "  });\n",
              "}\n",
              "\n",
              "/**\n",
              " * Generator function which is called between each async step of the upload\n",
              " * process.\n",
              " * @param {string} inputId Element ID of the input file picker element.\n",
              " * @param {string} outputId Element ID of the output display.\n",
              " * @return {!Iterable<!Object>} Iterable of next steps.\n",
              " */\n",
              "function* uploadFilesStep(inputId, outputId) {\n",
              "  const inputElement = document.getElementById(inputId);\n",
              "  inputElement.disabled = false;\n",
              "\n",
              "  const outputElement = document.getElementById(outputId);\n",
              "  outputElement.innerHTML = '';\n",
              "\n",
              "  const pickedPromise = new Promise((resolve) => {\n",
              "    inputElement.addEventListener('change', (e) => {\n",
              "      resolve(e.target.files);\n",
              "    });\n",
              "  });\n",
              "\n",
              "  const cancel = document.createElement('button');\n",
              "  inputElement.parentElement.appendChild(cancel);\n",
              "  cancel.textContent = 'Cancel upload';\n",
              "  const cancelPromise = new Promise((resolve) => {\n",
              "    cancel.onclick = () => {\n",
              "      resolve(null);\n",
              "    };\n",
              "  });\n",
              "\n",
              "  // Wait for the user to pick the files.\n",
              "  const files = yield {\n",
              "    promise: Promise.race([pickedPromise, cancelPromise]),\n",
              "    response: {\n",
              "      action: 'starting',\n",
              "    }\n",
              "  };\n",
              "\n",
              "  cancel.remove();\n",
              "\n",
              "  // Disable the input element since further picks are not allowed.\n",
              "  inputElement.disabled = true;\n",
              "\n",
              "  if (!files) {\n",
              "    return {\n",
              "      response: {\n",
              "        action: 'complete',\n",
              "      }\n",
              "    };\n",
              "  }\n",
              "\n",
              "  for (const file of files) {\n",
              "    const li = document.createElement('li');\n",
              "    li.append(span(file.name, {fontWeight: 'bold'}));\n",
              "    li.append(span(\n",
              "        `(${file.type || 'n/a'}) - ${file.size} bytes, ` +\n",
              "        `last modified: ${\n",
              "            file.lastModifiedDate ? file.lastModifiedDate.toLocaleDateString() :\n",
              "                                    'n/a'} - `));\n",
              "    const percent = span('0% done');\n",
              "    li.appendChild(percent);\n",
              "\n",
              "    outputElement.appendChild(li);\n",
              "\n",
              "    const fileDataPromise = new Promise((resolve) => {\n",
              "      const reader = new FileReader();\n",
              "      reader.onload = (e) => {\n",
              "        resolve(e.target.result);\n",
              "      };\n",
              "      reader.readAsArrayBuffer(file);\n",
              "    });\n",
              "    // Wait for the data to be ready.\n",
              "    let fileData = yield {\n",
              "      promise: fileDataPromise,\n",
              "      response: {\n",
              "        action: 'continue',\n",
              "      }\n",
              "    };\n",
              "\n",
              "    // Use a chunked sending to avoid message size limits. See b/62115660.\n",
              "    let position = 0;\n",
              "    do {\n",
              "      const length = Math.min(fileData.byteLength - position, MAX_PAYLOAD_SIZE);\n",
              "      const chunk = new Uint8Array(fileData, position, length);\n",
              "      position += length;\n",
              "\n",
              "      const base64 = btoa(String.fromCharCode.apply(null, chunk));\n",
              "      yield {\n",
              "        response: {\n",
              "          action: 'append',\n",
              "          file: file.name,\n",
              "          data: base64,\n",
              "        },\n",
              "      };\n",
              "\n",
              "      let percentDone = fileData.byteLength === 0 ?\n",
              "          100 :\n",
              "          Math.round((position / fileData.byteLength) * 100);\n",
              "      percent.textContent = `${percentDone}% done`;\n",
              "\n",
              "    } while (position < fileData.byteLength);\n",
              "  }\n",
              "\n",
              "  // All done.\n",
              "  yield {\n",
              "    response: {\n",
              "      action: 'complete',\n",
              "    }\n",
              "  };\n",
              "}\n",
              "\n",
              "scope.google = scope.google || {};\n",
              "scope.google.colab = scope.google.colab || {};\n",
              "scope.google.colab._files = {\n",
              "  _uploadFiles,\n",
              "  _uploadFilesContinue,\n",
              "};\n",
              "})(self);\n",
              "</script> "
            ],
            "text/plain": [
              "<IPython.core.display.HTML object>"
            ]
          },
          "metadata": {},
          "output_type": "display_data"
        },
        {
          "name": "stdout",
          "output_type": "stream",
          "text": [
            "Saving datasetf_1 - cpi_month.csv to datasetf_1 - cpi_month.csv\n"
          ]
        }
      ],
      "source": [
        "from google.colab import files\n",
        "uploaded = files.upload()"
      ]
    },
    {
      "cell_type": "code",
      "execution_count": null,
      "metadata": {
        "colab": {
          "base_uri": "https://localhost:8080/"
        },
        "id": "K9rmSFg77fHf",
        "outputId": "3f5c3ae7-b014-477b-bfc8-bb84e0df2387"
      },
      "outputs": [
        {
          "name": "stdout",
          "output_type": "stream",
          "text": [
            "Parse progress: |████████████████████████████████████████████████████████████████| (done) 100%\n"
          ]
        }
      ],
      "source": [
        "data = h2o.import_file('datasetf_1 - cpi_month.csv')"
      ]
    },
    {
      "cell_type": "code",
      "execution_count": null,
      "metadata": {
        "id": "QtvBr2bWC_cV"
      },
      "outputs": [],
      "source": [
        "train, valid = data.split_frame(ratios=[0.8], seed=42)\n"
      ]
    },
    {
      "cell_type": "code",
      "execution_count": null,
      "metadata": {
        "id": "1Ek9DVFv8PDe"
      },
      "outputs": [],
      "source": [
        "target_column = 'Inflation'\n"
      ]
    },
    {
      "cell_type": "code",
      "execution_count": null,
      "metadata": {
        "id": "uaveZRPg8Y3e"
      },
      "outputs": [],
      "source": [
        "predictors = data.columns\n",
        "predictors.remove(target_column)"
      ]
    },
    {
      "cell_type": "code",
      "execution_count": null,
      "metadata": {
        "id": "qK-MN4eN8i3N"
      },
      "outputs": [],
      "source": [
        "automl = H2OAutoML(max_runtime_secs=3600)  # Adjust the max runtime as needed\n",
        "\n",
        "\n"
      ]
    },
    {
      "cell_type": "code",
      "execution_count": null,
      "metadata": {
        "colab": {
          "background_save": true,
          "base_uri": "https://localhost:8080/"
        },
        "id": "Drjly6dG_NfW",
        "outputId": "3e5d1cf8-9744-4281-fc75-57485606f523"
      },
      "outputs": [
        {
          "name": "stdout",
          "output_type": "stream",
          "text": [
            "AutoML progress: |\n",
            "14:54:18.505: User specified a validation frame with cross-validation still enabled. Please note that the models will still be validated using cross-validation only, the validation frame will be used to provide purely informative validation metrics on the trained models.\n",
            "\n",
            "\n",
            "14:54:19.714: _min_rows param, The dataset size is too small to split for min_rows=100.0: must have at least 200.0 (weighted) rows, but have only 99.0.\n",
            "\n",
            "███████████████████████████████████████████████████████████████| (done) 100%\n"
          ]
        },
        {
          "data": {
            "text/html": [
              "<pre style='margin: 1em 0 1em 0;'>Model Details\n",
              "=============\n",
              "H2OStackedEnsembleEstimator : Stacked Ensemble\n",
              "Model Key: StackedEnsemble_BestOfFamily_5_AutoML_2_20230612_145418\n",
              "</pre>\n",
              "<div style='margin: 1em 0 1em 0;'>\n",
              "<style>\n",
              "\n",
              "#h2o-table-2.h2o-container {\n",
              "  overflow-x: auto;\n",
              "}\n",
              "#h2o-table-2 .h2o-table {\n",
              "  /* width: 100%; */\n",
              "  margin-top: 1em;\n",
              "  margin-bottom: 1em;\n",
              "}\n",
              "#h2o-table-2 .h2o-table caption {\n",
              "  white-space: nowrap;\n",
              "  caption-side: top;\n",
              "  text-align: left;\n",
              "  /* margin-left: 1em; */\n",
              "  margin: 0;\n",
              "  font-size: larger;\n",
              "}\n",
              "#h2o-table-2 .h2o-table thead {\n",
              "  white-space: nowrap; \n",
              "  position: sticky;\n",
              "  top: 0;\n",
              "  box-shadow: 0 -1px inset;\n",
              "}\n",
              "#h2o-table-2 .h2o-table tbody {\n",
              "  overflow: auto;\n",
              "}\n",
              "#h2o-table-2 .h2o-table th,\n",
              "#h2o-table-2 .h2o-table td {\n",
              "  text-align: right;\n",
              "  /* border: 1px solid; */\n",
              "}\n",
              "#h2o-table-2 .h2o-table tr:nth-child(even) {\n",
              "  /* background: #F5F5F5 */\n",
              "}\n",
              "\n",
              "</style>      \n",
              "<div id=\"h2o-table-2\" class=\"h2o-container\">\n",
              "  <table class=\"h2o-table\">\n",
              "    <caption>Model Summary for Stacked Ensemble: </caption>\n",
              "    <thead><tr><th>key</th>\n",
              "<th>value</th></tr></thead>\n",
              "    <tbody><tr><td>Stacking strategy</td>\n",
              "<td>cross_validation</td></tr>\n",
              "<tr><td>Number of base models (used / total)</td>\n",
              "<td>3/6</td></tr>\n",
              "<tr><td># GBM base models (used / total)</td>\n",
              "<td>1/1</td></tr>\n",
              "<tr><td># XGBoost base models (used / total)</td>\n",
              "<td>1/1</td></tr>\n",
              "<tr><td># DeepLearning base models (used / total)</td>\n",
              "<td>1/1</td></tr>\n",
              "<tr><td># DRF base models (used / total)</td>\n",
              "<td>0/2</td></tr>\n",
              "<tr><td># GLM base models (used / total)</td>\n",
              "<td>0/1</td></tr>\n",
              "<tr><td>Metalearner algorithm</td>\n",
              "<td>GLM</td></tr>\n",
              "<tr><td>Metalearner fold assignment scheme</td>\n",
              "<td>Random</td></tr>\n",
              "<tr><td>Metalearner nfolds</td>\n",
              "<td>5</td></tr>\n",
              "<tr><td>Metalearner fold_column</td>\n",
              "<td>None</td></tr>\n",
              "<tr><td>Custom metalearner hyperparameters</td>\n",
              "<td>None</td></tr></tbody>\n",
              "  </table>\n",
              "</div>\n",
              "</div>\n",
              "<div style='margin: 1em 0 1em 0;'><pre style='margin: 1em 0 1em 0;'>ModelMetricsRegressionGLM: stackedensemble\n",
              "** Reported on train data. **\n",
              "\n",
              "MSE: 0.012602864543252388\n",
              "RMSE: 0.11226248056787444\n",
              "MAE: 0.08767404379379988\n",
              "RMSLE: 0.015156049965791136\n",
              "Mean Residual Deviance: 0.012602864543252388\n",
              "R^2: 0.986022553760337\n",
              "Null degrees of freedom: 98\n",
              "Residual degrees of freedom: 95\n",
              "Null deviance: 89.2640592844204\n",
              "Residual deviance: 1.2476835897819865\n",
              "AIC: -142.05945389541628</pre></div>\n",
              "<div style='margin: 1em 0 1em 0;'><pre style='margin: 1em 0 1em 0;'>ModelMetricsRegressionGLM: stackedensemble\n",
              "** Reported on validation data. **\n",
              "\n",
              "MSE: 0.055893624812386\n",
              "RMSE: 0.23641832588102388\n",
              "MAE: 0.1841712548693873\n",
              "RMSLE: 0.033653398704146346\n",
              "Mean Residual Deviance: 0.055893624812386\n",
              "R^2: 0.8335824254192622\n",
              "Null degrees of freedom: 18\n",
              "Residual degrees of freedom: 15\n",
              "Null deviance: 8.552742697008663\n",
              "Residual deviance: 1.061978871435334\n",
              "AIC: 9.117870181094275</pre></div>\n",
              "<div style='margin: 1em 0 1em 0;'><pre style='margin: 1em 0 1em 0;'>ModelMetricsRegressionGLM: stackedensemble\n",
              "** Reported on cross-validation data. **\n",
              "\n",
              "MSE: 0.07538421136679709\n",
              "RMSE: 0.27456185344435063\n",
              "MAE: 0.1977743279805772\n",
              "RMSLE: 0.03694446101560635\n",
              "Mean Residual Deviance: 0.07538421136679709\n",
              "R^2: 0.9163937088998648\n",
              "Null degrees of freedom: 98\n",
              "Residual degrees of freedom: 95\n",
              "Null deviance: 90.88845740837884\n",
              "Residual deviance: 7.463036925312911\n",
              "AIC: 35.019244577392996</pre></div>\n",
              "<div style='margin: 1em 0 1em 0;'>\n",
              "<style>\n",
              "\n",
              "#h2o-table-3.h2o-container {\n",
              "  overflow-x: auto;\n",
              "}\n",
              "#h2o-table-3 .h2o-table {\n",
              "  /* width: 100%; */\n",
              "  margin-top: 1em;\n",
              "  margin-bottom: 1em;\n",
              "}\n",
              "#h2o-table-3 .h2o-table caption {\n",
              "  white-space: nowrap;\n",
              "  caption-side: top;\n",
              "  text-align: left;\n",
              "  /* margin-left: 1em; */\n",
              "  margin: 0;\n",
              "  font-size: larger;\n",
              "}\n",
              "#h2o-table-3 .h2o-table thead {\n",
              "  white-space: nowrap; \n",
              "  position: sticky;\n",
              "  top: 0;\n",
              "  box-shadow: 0 -1px inset;\n",
              "}\n",
              "#h2o-table-3 .h2o-table tbody {\n",
              "  overflow: auto;\n",
              "}\n",
              "#h2o-table-3 .h2o-table th,\n",
              "#h2o-table-3 .h2o-table td {\n",
              "  text-align: right;\n",
              "  /* border: 1px solid; */\n",
              "}\n",
              "#h2o-table-3 .h2o-table tr:nth-child(even) {\n",
              "  /* background: #F5F5F5 */\n",
              "}\n",
              "\n",
              "</style>      \n",
              "<div id=\"h2o-table-3\" class=\"h2o-container\">\n",
              "  <table class=\"h2o-table\">\n",
              "    <caption>Cross-Validation Metrics Summary: </caption>\n",
              "    <thead><tr><th></th>\n",
              "<th>mean</th>\n",
              "<th>sd</th>\n",
              "<th>cv_1_valid</th>\n",
              "<th>cv_2_valid</th>\n",
              "<th>cv_3_valid</th>\n",
              "<th>cv_4_valid</th>\n",
              "<th>cv_5_valid</th></tr></thead>\n",
              "    <tbody><tr><td>mae</td>\n",
              "<td>0.1935438</td>\n",
              "<td>0.0548277</td>\n",
              "<td>0.1807403</td>\n",
              "<td>0.1557675</td>\n",
              "<td>0.1839805</td>\n",
              "<td>0.2889348</td>\n",
              "<td>0.1582958</td></tr>\n",
              "<tr><td>mean_residual_deviance</td>\n",
              "<td>0.0714611</td>\n",
              "<td>0.0460439</td>\n",
              "<td>0.0580355</td>\n",
              "<td>0.0408045</td>\n",
              "<td>0.0592593</td>\n",
              "<td>0.1526467</td>\n",
              "<td>0.0465594</td></tr>\n",
              "<tr><td>mse</td>\n",
              "<td>0.0714611</td>\n",
              "<td>0.0460439</td>\n",
              "<td>0.0580355</td>\n",
              "<td>0.0408045</td>\n",
              "<td>0.0592593</td>\n",
              "<td>0.1526467</td>\n",
              "<td>0.0465594</td></tr>\n",
              "<tr><td>null_deviance</td>\n",
              "<td>18.177692</td>\n",
              "<td>7.188789</td>\n",
              "<td>11.991221</td>\n",
              "<td>10.479019</td>\n",
              "<td>26.734394</td>\n",
              "<td>24.140356</td>\n",
              "<td>17.543467</td></tr>\n",
              "<tr><td>r2</td>\n",
              "<td>0.9189091</td>\n",
              "<td>0.0397929</td>\n",
              "<td>0.8946868</td>\n",
              "<td>0.9514182</td>\n",
              "<td>0.9300642</td>\n",
              "<td>0.8624072</td>\n",
              "<td>0.955969</td></tr>\n",
              "<tr><td>residual_deviance</td>\n",
              "<td>1.4757346</td>\n",
              "<td>1.0827328</td>\n",
              "<td>1.1607089</td>\n",
              "<td>0.4896543</td>\n",
              "<td>1.7777784</td>\n",
              "<td>3.2055814</td>\n",
              "<td>0.7449502</td></tr>\n",
              "<tr><td>rmse</td>\n",
              "<td>0.2585631</td>\n",
              "<td>0.0758797</td>\n",
              "<td>0.2409055</td>\n",
              "<td>0.2020013</td>\n",
              "<td>0.2434323</td>\n",
              "<td>0.3907003</td>\n",
              "<td>0.2157762</td></tr>\n",
              "<tr><td>rmsle</td>\n",
              "<td>0.0348795</td>\n",
              "<td>0.0090981</td>\n",
              "<td>0.0343735</td>\n",
              "<td>0.0274166</td>\n",
              "<td>0.0349190</td>\n",
              "<td>0.0498831</td>\n",
              "<td>0.0278053</td></tr></tbody>\n",
              "  </table>\n",
              "</div>\n",
              "</div><pre style=\"font-size: smaller; margin: 1em 0 0 0;\">\n",
              "\n",
              "[tips]\n",
              "Use `model.explain()` to inspect the model.\n",
              "--\n",
              "Use `h2o.display.toggle_user_tips()` to switch on/off this section.</pre>"
            ],
            "text/plain": [
              "Model Details\n",
              "=============\n",
              "H2OStackedEnsembleEstimator : Stacked Ensemble\n",
              "Model Key: StackedEnsemble_BestOfFamily_5_AutoML_2_20230612_145418\n",
              "\n",
              "\n",
              "Model Summary for Stacked Ensemble: \n",
              "key                                        value\n",
              "-----------------------------------------  ----------------\n",
              "Stacking strategy                          cross_validation\n",
              "Number of base models (used / total)       3/6\n",
              "# GBM base models (used / total)           1/1\n",
              "# XGBoost base models (used / total)       1/1\n",
              "# DeepLearning base models (used / total)  1/1\n",
              "# DRF base models (used / total)           0/2\n",
              "# GLM base models (used / total)           0/1\n",
              "Metalearner algorithm                      GLM\n",
              "Metalearner fold assignment scheme         Random\n",
              "Metalearner nfolds                         5\n",
              "Metalearner fold_column\n",
              "Custom metalearner hyperparameters         None\n",
              "\n",
              "ModelMetricsRegressionGLM: stackedensemble\n",
              "** Reported on train data. **\n",
              "\n",
              "MSE: 0.012602864543252388\n",
              "RMSE: 0.11226248056787444\n",
              "MAE: 0.08767404379379988\n",
              "RMSLE: 0.015156049965791136\n",
              "Mean Residual Deviance: 0.012602864543252388\n",
              "R^2: 0.986022553760337\n",
              "Null degrees of freedom: 98\n",
              "Residual degrees of freedom: 95\n",
              "Null deviance: 89.2640592844204\n",
              "Residual deviance: 1.2476835897819865\n",
              "AIC: -142.05945389541628\n",
              "\n",
              "ModelMetricsRegressionGLM: stackedensemble\n",
              "** Reported on validation data. **\n",
              "\n",
              "MSE: 0.055893624812386\n",
              "RMSE: 0.23641832588102388\n",
              "MAE: 0.1841712548693873\n",
              "RMSLE: 0.033653398704146346\n",
              "Mean Residual Deviance: 0.055893624812386\n",
              "R^2: 0.8335824254192622\n",
              "Null degrees of freedom: 18\n",
              "Residual degrees of freedom: 15\n",
              "Null deviance: 8.552742697008663\n",
              "Residual deviance: 1.061978871435334\n",
              "AIC: 9.117870181094275\n",
              "\n",
              "ModelMetricsRegressionGLM: stackedensemble\n",
              "** Reported on cross-validation data. **\n",
              "\n",
              "MSE: 0.07538421136679709\n",
              "RMSE: 0.27456185344435063\n",
              "MAE: 0.1977743279805772\n",
              "RMSLE: 0.03694446101560635\n",
              "Mean Residual Deviance: 0.07538421136679709\n",
              "R^2: 0.9163937088998648\n",
              "Null degrees of freedom: 98\n",
              "Residual degrees of freedom: 95\n",
              "Null deviance: 90.88845740837884\n",
              "Residual deviance: 7.463036925312911\n",
              "AIC: 35.019244577392996\n",
              "\n",
              "Cross-Validation Metrics Summary: \n",
              "                        mean       sd          cv_1_valid    cv_2_valid    cv_3_valid    cv_4_valid    cv_5_valid\n",
              "----------------------  ---------  ----------  ------------  ------------  ------------  ------------  ------------\n",
              "mae                     0.193544   0.0548277   0.18074       0.155767      0.18398       0.288935      0.158296\n",
              "mean_residual_deviance  0.0714611  0.0460439   0.0580355     0.0408045     0.0592593     0.152647      0.0465594\n",
              "mse                     0.0714611  0.0460439   0.0580355     0.0408045     0.0592593     0.152647      0.0465594\n",
              "null_deviance           18.1777    7.18879     11.9912       10.479        26.7344       24.1404       17.5435\n",
              "r2                      0.918909   0.0397929   0.894687      0.951418      0.930064      0.862407      0.955969\n",
              "residual_deviance       1.47573    1.08273     1.16071       0.489654      1.77778       3.20558       0.74495\n",
              "rmse                    0.258563   0.0758797   0.240905      0.202001      0.243432      0.3907        0.215776\n",
              "rmsle                   0.0348795  0.00909815  0.0343735     0.0274166     0.034919      0.0498831     0.0278053\n",
              "\n",
              "[tips]\n",
              "Use `model.explain()` to inspect the model.\n",
              "--\n",
              "Use `h2o.display.toggle_user_tips()` to switch on/off this section."
            ]
          },
          "execution_count": 14,
          "metadata": {},
          "output_type": "execute_result"
        }
      ],
      "source": [
        "automl.train(x=predictors, y=target_column, training_frame=train, validation_frame=valid)\n",
        "\n"
      ]
    },
    {
      "cell_type": "code",
      "execution_count": null,
      "metadata": {
        "colab": {
          "base_uri": "https://localhost:8080/"
        },
        "id": "qkKVaCmaR6hR",
        "outputId": "c2c3d671-dd7c-4169-c1a7-0ce28c8f617a"
      },
      "outputs": [
        {
          "output_type": "stream",
          "name": "stdout",
          "text": [
            "model_id                                                     rmse        mse       mae      rmsle    mean_residual_deviance\n",
            "StackedEnsemble_BestOfFamily_5_AutoML_2_20230612_145418  0.274562  0.0753842  0.197774  0.0369445                 0.0753842\n",
            "GBM_grid_1_AutoML_2_20230612_145418_model_10             0.276271  0.0763256  0.197581  0.0370492                 0.0763256\n",
            "XGBoost_grid_1_AutoML_2_20230612_145418_model_12         0.279448  0.078091   0.196588  0.0384227                 0.078091\n",
            "XGBoost_grid_1_AutoML_2_20230612_145418_model_238        0.279564  0.0781558  0.186185  0.036741                  0.0781558\n",
            "XGBoost_grid_1_AutoML_2_20230612_145418_model_190        0.280827  0.0788636  0.19096   0.0374586                 0.0788636\n",
            "StackedEnsemble_BestOfFamily_7_AutoML_2_20230612_145418  0.284151  0.0807419  0.202099  0.0379391                 0.0807419\n",
            "StackedEnsemble_BestOfFamily_4_AutoML_2_20230612_145418  0.287143  0.0824514  0.20801   0.0385597                 0.0824514\n",
            "XGBoost_grid_1_AutoML_2_20230612_145418_model_234        0.288387  0.083167   0.201373  0.0380547                 0.083167\n",
            "GBM_grid_1_AutoML_2_20230612_145418_model_91             0.291897  0.0852037  0.219976  0.0390474                 0.0852037\n",
            "XGBoost_grid_1_AutoML_2_20230612_145418_model_203        0.291907  0.0852099  0.198517  0.0388978                 0.0852099\n",
            "[847 rows x 6 columns]\n",
            "\n"
          ]
        }
      ],
      "source": [
        "leaderboard = automl.leaderboard\n",
        "print(leaderboard)"
      ]
    },
    {
      "cell_type": "code",
      "source": [
        "best_model = automl.leader\n"
      ],
      "metadata": {
        "id": "Bc-40I2zabOW"
      },
      "execution_count": null,
      "outputs": []
    },
    {
      "cell_type": "code",
      "source": [
        "mae= 0.085"
      ],
      "metadata": {
        "id": "QzYLlafzkYXz"
      },
      "execution_count": null,
      "outputs": []
    },
    {
      "cell_type": "code",
      "source": [
        "leaderboard_df = leaderboard.as_data_frame()\n"
      ],
      "metadata": {
        "id": "xDJGqUkTk-R0"
      },
      "execution_count": null,
      "outputs": []
    },
    {
      "cell_type": "code",
      "source": [
        "predictions = best_model.predict(predictors)\n"
      ],
      "metadata": {
        "id": "9_auuIyfaaRj"
      },
      "execution_count": null,
      "outputs": []
    },
    {
      "cell_type": "code",
      "execution_count": null,
      "metadata": {
        "id": "U105Apelq76i"
      },
      "outputs": [],
      "source": [
        "import pandas as pd\n",
        "\n",
        "predictions_df = predictions.as_data_frame()"
      ]
    },
    {
      "cell_type": "code",
      "execution_count": null,
      "metadata": {
        "id": "HD73JE140eNZ"
      },
      "outputs": [],
      "source": [
        "actual_values_df = test[y].as_data_frame()\n"
      ]
    },
    {
      "cell_type": "code",
      "execution_count": null,
      "metadata": {
        "id": "QfvWHmWf0fPD"
      },
      "outputs": [],
      "source": [
        "comparison_df = pd.concat([actual_values_df, predictions_df], axis=1)\n",
        "comparison_df.columns = ['Actual', 'Predicted']\n"
      ]
    },
    {
      "cell_type": "code",
      "execution_count": null,
      "metadata": {
        "colab": {
          "base_uri": "https://localhost:8080/",
          "height": 472
        },
        "id": "OeJBkuhQ0gbw",
        "outputId": "2f129827-7f01-4279-ac95-bfe7fb53400e"
      },
      "outputs": [
        {
          "data": {
            "image/png": "[encoded data removed]",
            "text/plain": [
              "<Figure size 640x480 with 1 Axes>"
            ]
          },
          "metadata": {},
          "output_type": "display_data"
        }
      ],
      "source": [
        "import matplotlib.pyplot as plt\n",
        "\n",
        "plt.plot(comparison_df['Actual'], label='Actual')\n",
        "plt.plot(comparison_df['Predicted'], label='Predicted')\n",
        "plt.xlabel('Data Points')\n",
        "plt.ylabel('Inflation')\n",
        "plt.title('Actual vs Predicted Inflation')\n",
        "plt.legend()\n",
        "plt.show()\n"
      ]
    }
  ],
  "metadata": {
    "colab": {
      "provenance": [],
      "authorship_tag": "ABX9TyPIcvpPpBVJx83L3d1gtep9",
      "include_colab_link": true
    },
    "kernelspec": {
      "display_name": "Python 3",
      "name": "python3"
    },
    "language_info": {
      "name": "python"
    }
  },
  "nbformat": 4,
  "nbformat_minor": 0
}